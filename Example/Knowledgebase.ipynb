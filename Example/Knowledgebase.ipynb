{
  "cells": [
    {
      "cell_type": "markdown",
      "metadata": {},
      "source": [
        "# Переменные"
      ]
    },
    {
      "cell_type": "code",
      "execution_count": 23,
      "metadata": {
        "id": "gceO-C-XHSRG"
      },
      "outputs": [],
      "source": [
        "a,b = 3,2"
      ]
    },
    {
      "cell_type": "markdown",
      "metadata": {
        "id": "p7CPrf-zF9SW"
      },
      "source": [
        "# Операции с целочисленными переменными"
      ]
    },
    {
      "cell_type": "markdown",
      "metadata": {
        "id": "9Aws59E4Gc_5"
      },
      "source": [
        "**Сложение**"
      ]
    },
    {
      "cell_type": "code",
      "execution_count": 24,
      "metadata": {
        "colab": {
          "base_uri": "https://localhost:8080/"
        },
        "id": "oli6M4ZIF4MV",
        "outputId": "4d86ef27-7ac5-4af6-cadb-1928702cafe4"
      },
      "outputs": [
        {
          "data": {
            "text/plain": [
              "5"
            ]
          },
          "execution_count": 24,
          "metadata": {},
          "output_type": "execute_result"
        }
      ],
      "source": [
        "a + b"
      ]
    },
    {
      "cell_type": "markdown",
      "metadata": {
        "id": "IFkDU-O5Ggh8"
      },
      "source": [
        "**Разность**"
      ]
    },
    {
      "cell_type": "code",
      "execution_count": 25,
      "metadata": {
        "colab": {
          "base_uri": "https://localhost:8080/"
        },
        "id": "Uddu1fBCGikv",
        "outputId": "ea00110b-77d5-452d-9e1e-ad9f689f59dc"
      },
      "outputs": [
        {
          "data": {
            "text/plain": [
              "1"
            ]
          },
          "execution_count": 25,
          "metadata": {},
          "output_type": "execute_result"
        }
      ],
      "source": [
        "a - b"
      ]
    },
    {
      "cell_type": "markdown",
      "metadata": {
        "id": "MMkUrQMLF8KA"
      },
      "source": [
        "**Произведение**"
      ]
    },
    {
      "cell_type": "code",
      "execution_count": 26,
      "metadata": {
        "colab": {
          "base_uri": "https://localhost:8080/"
        },
        "id": "v9_wNMNwGvhV",
        "outputId": "fc47932b-6e6d-40b6-84cc-9f3998f7db1b"
      },
      "outputs": [
        {
          "data": {
            "text/plain": [
              "6"
            ]
          },
          "execution_count": 26,
          "metadata": {},
          "output_type": "execute_result"
        }
      ],
      "source": [
        "a * b"
      ]
    },
    {
      "cell_type": "markdown",
      "metadata": {
        "id": "TVbHoWyHGykX"
      },
      "source": [
        "**Частное c вещественной часть(числа после запятой)**"
      ]
    },
    {
      "cell_type": "code",
      "execution_count": 27,
      "metadata": {
        "colab": {
          "base_uri": "https://localhost:8080/"
        },
        "id": "GbYOvhThGxSj",
        "outputId": "10304943-99ac-472d-c883-e0d2036d3638"
      },
      "outputs": [
        {
          "data": {
            "text/plain": [
              "1.5"
            ]
          },
          "execution_count": 27,
          "metadata": {},
          "output_type": "execute_result"
        }
      ],
      "source": [
        "a / b"
      ]
    },
    {
      "cell_type": "markdown",
      "metadata": {
        "id": "SX3HncyhHCeU"
      },
      "source": [
        "**Частное только целая часть**"
      ]
    },
    {
      "cell_type": "code",
      "execution_count": 28,
      "metadata": {
        "colab": {
          "base_uri": "https://localhost:8080/"
        },
        "id": "hONrW-AqHAh6",
        "outputId": "4e4f14e3-ad94-4cc4-fd79-899f192e577f"
      },
      "outputs": [
        {
          "data": {
            "text/plain": [
              "1"
            ]
          },
          "execution_count": 28,
          "metadata": {},
          "output_type": "execute_result"
        }
      ],
      "source": [
        "a // b"
      ]
    },
    {
      "cell_type": "markdown",
      "metadata": {
        "id": "IPu1na-YHG5P"
      },
      "source": [
        "**Остаток от деления**"
      ]
    },
    {
      "cell_type": "code",
      "execution_count": 29,
      "metadata": {
        "colab": {
          "base_uri": "https://localhost:8080/"
        },
        "id": "jrO_1poeHGfv",
        "outputId": "17a8dc63-78a2-49c4-e5aa-db3cd1924b19"
      },
      "outputs": [
        {
          "data": {
            "text/plain": [
              "1"
            ]
          },
          "execution_count": 29,
          "metadata": {},
          "output_type": "execute_result"
        }
      ],
      "source": [
        "a % b"
      ]
    },
    {
      "cell_type": "markdown",
      "metadata": {
        "id": "PBCssCZcHbnL"
      },
      "source": [
        "**Возведение в степень**"
      ]
    },
    {
      "cell_type": "code",
      "execution_count": 30,
      "metadata": {
        "colab": {
          "base_uri": "https://localhost:8080/"
        },
        "id": "xfrj9GpEHMNl",
        "outputId": "d509b712-5676-4ea8-94bd-7fb69d351581"
      },
      "outputs": [
        {
          "data": {
            "text/plain": [
              "9"
            ]
          },
          "execution_count": 30,
          "metadata": {},
          "output_type": "execute_result"
        }
      ],
      "source": [
        "a ** b"
      ]
    },
    {
      "cell_type": "markdown",
      "metadata": {
        "id": "KmqNSgVKHkUJ"
      },
      "source": [
        "# Циклы"
      ]
    },
    {
      "cell_type": "markdown",
      "metadata": {
        "id": "1cpP6NVDgS5Z"
      },
      "source": [
        "## Цикл for\n",
        "цикл с параметром\n",
        "\n",
        "**for** i in **range**({*начало_отсчета*}, {*конец_отсчета*}**-1**, {*шаг_отсчета*}):\n",
        "\n",
        "Конец отсчета/итерации - *обязательный параметр* "
      ]
    },
    {
      "cell_type": "code",
      "execution_count": 31,
      "metadata": {
        "colab": {
          "base_uri": "https://localhost:8080/"
        },
        "id": "UCAodrJaHm0B",
        "outputId": "9fcf392c-cf31-4dad-b2d3-f30d1b35746a"
      },
      "outputs": [
        {
          "name": "stdout",
          "output_type": "stream",
          "text": [
            "0\n",
            "1\n",
            "2\n",
            "3\n",
            "4\n",
            "5\n",
            "6\n",
            "7\n",
            "8\n",
            "9\n"
          ]
        }
      ],
      "source": [
        "for i in range(10):# неявно начало отсчета = 0, шаг отсчета = 1 \n",
        "  print(i)"
      ]
    },
    {
      "cell_type": "code",
      "execution_count": 32,
      "metadata": {},
      "outputs": [
        {
          "name": "stdout",
          "output_type": "stream",
          "text": [
            "1\n",
            "2\n",
            "3\n",
            "4\n",
            "5\n",
            "6\n",
            "7\n",
            "8\n",
            "9\n"
          ]
        }
      ],
      "source": [
        "for i in range(1,10):\n",
        "  print(i)"
      ]
    },
    {
      "cell_type": "code",
      "execution_count": 33,
      "metadata": {},
      "outputs": [
        {
          "name": "stdout",
          "output_type": "stream",
          "text": [
            "2\n",
            "4\n",
            "6\n",
            "8\n",
            "10\n"
          ]
        }
      ],
      "source": [
        "for i in range(2,10+1,2):\n",
        "  print(i)"
      ]
    },
    {
      "cell_type": "markdown",
      "metadata": {
        "id": "6mLmbZS3IxSp"
      },
      "source": [
        "# Операторы сравнения\n",
        "\n",
        "\n",
        "\n"
      ]
    },
    {
      "cell_type": "markdown",
      "metadata": {
        "id": "KdvxnL6aJP5D"
      },
      "source": [
        "## Равенство (==)\n",
        "Проверят равны ли переменные. Если равны возвращает True иначе False"
      ]
    },
    {
      "cell_type": "code",
      "execution_count": 34,
      "metadata": {
        "colab": {
          "base_uri": "https://localhost:8080/"
        },
        "id": "R3Ij-oiwIzLJ",
        "outputId": "5025a308-38a8-464e-d872-616582891942"
      },
      "outputs": [
        {
          "data": {
            "text/plain": [
              "False"
            ]
          },
          "execution_count": 34,
          "metadata": {},
          "output_type": "execute_result"
        }
      ],
      "source": [
        "a == b"
      ]
    },
    {
      "cell_type": "markdown",
      "metadata": {
        "id": "0mnjO5tQJkxs"
      },
      "source": [
        "##  Больше или равно(>=)\n",
        "Проверят больше или равен левыйы аргумет. Если равен или больше возвращает <b>True</b> иначе <b>False</b>"
      ]
    },
    {
      "cell_type": "code",
      "execution_count": 35,
      "metadata": {
        "colab": {
          "base_uri": "https://localhost:8080/"
        },
        "id": "OmtMj9wDI2zO",
        "outputId": "1a12071d-5502-44ba-dfc3-65ce2a82afa3"
      },
      "outputs": [
        {
          "data": {
            "text/plain": [
              "True"
            ]
          },
          "execution_count": 35,
          "metadata": {},
          "output_type": "execute_result"
        }
      ],
      "source": [
        "a >= b"
      ]
    },
    {
      "cell_type": "markdown",
      "metadata": {
        "id": "jWx7lGLveITi"
      },
      "source": [
        "## Больше(>)\n",
        "Проверят больше ли левый аргумет. Если больше возвращает <b>True</b> иначе <b>False</b>"
      ]
    },
    {
      "cell_type": "code",
      "execution_count": 36,
      "metadata": {
        "colab": {
          "base_uri": "https://localhost:8080/"
        },
        "id": "A-ONye2sJKAP",
        "outputId": "59fbec75-1a6f-4999-bf64-1e39a37aaee9"
      },
      "outputs": [
        {
          "data": {
            "text/plain": [
              "True"
            ]
          },
          "execution_count": 36,
          "metadata": {},
          "output_type": "execute_result"
        }
      ],
      "source": [
        "a > b"
      ]
    },
    {
      "cell_type": "markdown",
      "metadata": {
        "id": "Z3HzHDT6eQIk"
      },
      "source": [
        "##  Меньше или равно (<=)\n",
        "Проверят меньше или равен левый аргумет. Если меньше возвращает <b>True</b> иначе <b>False</b>"
      ]
    },
    {
      "cell_type": "code",
      "execution_count": 37,
      "metadata": {
        "colab": {
          "base_uri": "https://localhost:8080/"
        },
        "id": "igLNQeFhI5FM",
        "outputId": "f96e07e0-483d-4092-d6ed-129c053161fb"
      },
      "outputs": [
        {
          "data": {
            "text/plain": [
              "False"
            ]
          },
          "execution_count": 37,
          "metadata": {},
          "output_type": "execute_result"
        }
      ],
      "source": [
        "a <= b"
      ]
    },
    {
      "cell_type": "markdown",
      "metadata": {
        "id": "ERefkFHBeVy1"
      },
      "source": [
        "## Меньше (<)\n",
        "Проверят больше или  левый аргумет. Если больше возвращает <b>True</b> иначе <b>False</b>"
      ]
    },
    {
      "cell_type": "code",
      "execution_count": 38,
      "metadata": {
        "colab": {
          "base_uri": "https://localhost:8080/"
        },
        "id": "GPZ_SlD_JHFB",
        "outputId": "e1342a4a-23a8-418a-8953-dcb01a67599d"
      },
      "outputs": [
        {
          "data": {
            "text/plain": [
              "False"
            ]
          },
          "execution_count": 38,
          "metadata": {},
          "output_type": "execute_result"
        }
      ],
      "source": [
        "a < b"
      ]
    },
    {
      "cell_type": "markdown",
      "metadata": {
        "id": "6-LOr8Aeeb2o"
      },
      "source": [
        "## Не равно (!=)\n",
        "Проверят не равен ли левый аргумет. Если не равен возвращает <b>True</b> иначе <b>False</b>"
      ]
    },
    {
      "cell_type": "code",
      "execution_count": 39,
      "metadata": {
        "colab": {
          "base_uri": "https://localhost:8080/"
        },
        "id": "GtjrEBiaJLcK",
        "outputId": "83423d0f-e1f0-4a36-c712-b95a5b4d0f14"
      },
      "outputs": [
        {
          "data": {
            "text/plain": [
              "True"
            ]
          },
          "execution_count": 39,
          "metadata": {},
          "output_type": "execute_result"
        }
      ],
      "source": [
        "a != b"
      ]
    },
    {
      "cell_type": "markdown",
      "metadata": {
        "id": "edb08bAsHwdZ"
      },
      "source": [
        "# Ветвления (if else elif)"
      ]
    },
    {
      "cell_type": "code",
      "execution_count": 40,
      "metadata": {
        "colab": {
          "base_uri": "https://localhost:8080/"
        },
        "id": "adyM6Q24H9w0",
        "outputId": "115a3210-377b-4356-f7f8-a3d75486a40e"
      },
      "outputs": [
        {
          "name": "stdout",
          "output_type": "stream",
          "text": [
            "a не равно 2\n",
            "a =  3\n"
          ]
        }
      ],
      "source": [
        "if(a == 2):\n",
        "  print(a)\n",
        "else:\n",
        "  print(\"a не равно 2\")\n",
        "  print(\"a = \", a)\n"
      ]
    },
    {
      "cell_type": "code",
      "execution_count": 41,
      "metadata": {
        "colab": {
          "base_uri": "https://localhost:8080/"
        },
        "id": "w52wOonMdvkm",
        "outputId": "ad70578c-340b-4dc5-ecb5-e7bee5cb6156"
      },
      "outputs": [
        {
          "name": "stdout",
          "output_type": "stream",
          "text": [
            "a равно 3.\n"
          ]
        }
      ],
      "source": [
        "if(a == 2):\n",
        "  print(\"a равно 2.\")\n",
        "elif(a == 3):\n",
        "  print(\"a равно 3.\")\n",
        "else:\n",
        "  print(\"a не равно ни 2, ни 3.\")\n",
        "  print(\"a = \", a)"
      ]
    }
  ],
  "metadata": {
    "colab": {
      "collapsed_sections": [
        "p7CPrf-zF9SW"
      ],
      "provenance": [],
      "toc_visible": true
    },
    "kernelspec": {
      "display_name": "Python 3",
      "name": "python3"
    },
    "language_info": {
      "codemirror_mode": {
        "name": "ipython",
        "version": 3
      },
      "file_extension": ".py",
      "mimetype": "text/x-python",
      "name": "python",
      "nbconvert_exporter": "python",
      "pygments_lexer": "ipython3",
      "version": "3.13.2"
    }
  },
  "nbformat": 4,
  "nbformat_minor": 0
}
